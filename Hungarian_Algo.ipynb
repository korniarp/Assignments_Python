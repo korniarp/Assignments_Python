{
 "cells": [
  {
   "cell_type": "code",
   "execution_count": 199,
   "id": "2b4453db-ad71-42f4-b52d-8e489e54977a",
   "metadata": {},
   "outputs": [],
   "source": [
    "import numpy as np"
   ]
  },
  {
   "cell_type": "code",
   "execution_count": 200,
   "id": "5a8912d1-46fd-471a-bfe8-46cf94fd6d5c",
   "metadata": {},
   "outputs": [],
   "source": [
    "r = 3"
   ]
  },
  {
   "cell_type": "code",
   "execution_count": 201,
   "id": "68711709-45c2-41f7-8214-53370820848e",
   "metadata": {},
   "outputs": [
    {
     "data": {
      "text/plain": [
       "array([[ 1,  8, 10],\n",
       "       [ 5,  4,  8],\n",
       "       [ 5,  0,  0]])"
      ]
     },
     "execution_count": 201,
     "metadata": {},
     "output_type": "execute_result"
    }
   ],
   "source": [
    "#mat = np.array([[8,1,6],[7,2,0],[7,7,6]])\n",
    "mat = np.random.randint(0,11,r*r).reshape(r,r)\n",
    "original_mat = mat.copy()\n",
    "original_mat"
   ]
  },
  {
   "cell_type": "code",
   "execution_count": 202,
   "id": "ac1f5d87-8e42-4e11-a791-39784a6cc561",
   "metadata": {},
   "outputs": [
    {
     "data": {
      "text/plain": [
       "array([[0, 7, 9],\n",
       "       [1, 0, 4],\n",
       "       [5, 0, 0]])"
      ]
     },
     "execution_count": 202,
     "metadata": {},
     "output_type": "execute_result"
    }
   ],
   "source": [
    "row_min = np.min(mat,axis=1,keepdims=True)\n",
    "mat = mat - row_min\n",
    "mat"
   ]
  },
  {
   "cell_type": "code",
   "execution_count": 203,
   "id": "e89f901d-b087-4811-b149-8d6b00db8d78",
   "metadata": {},
   "outputs": [
    {
     "data": {
      "text/plain": [
       "array([[0, 7, 9],\n",
       "       [1, 0, 4],\n",
       "       [5, 0, 0]])"
      ]
     },
     "execution_count": 203,
     "metadata": {},
     "output_type": "execute_result"
    }
   ],
   "source": [
    "col_min = np.min(mat,axis=0,keepdims=False)\n",
    "mat = mat - col_min\n",
    "mat"
   ]
  },
  {
   "cell_type": "code",
   "execution_count": 204,
   "id": "081695fa-9716-4856-a228-9c39b083d52b",
   "metadata": {},
   "outputs": [
    {
     "data": {
      "text/plain": [
       "3"
      ]
     },
     "execution_count": 204,
     "metadata": {},
     "output_type": "execute_result"
    }
   ],
   "source": [
    "rank = np.linalg.matrix_rank(mat)\n",
    "rank"
   ]
  },
  {
   "cell_type": "code",
   "execution_count": 205,
   "id": "4ed099cd-83cb-4d2d-8c03-58052a6d511c",
   "metadata": {},
   "outputs": [
    {
     "name": "stdout",
     "output_type": "stream",
     "text": [
      "Indices of rows and columns with a single zero: [(0, 0), (1, 1), (2, 2)]\n",
      "Result from brute method : 5\n",
      "Result from scipy : 5\n",
      "Both results match.\n"
     ]
    }
   ],
   "source": [
    "#Getting individual rows and columns\n",
    "result_1 = zero_indices(mat)\n",
    "result_1\n",
    "print(\"Indices of rows and columns with a single zero:\", result_1)\n",
    "\n",
    "ans = addition(result_1,original_mat)\n",
    "print(f\"Result from brute method : {ans}\")\n",
    "ans_2 = using_lib(original_mat)\n",
    "print(f\"Result from scipy : {ans_2}\")\n",
    "if ans == ans_2:\n",
    "    print(\"Both results match.\")\n"
   ]
  },
  {
   "cell_type": "code",
   "execution_count": 206,
   "id": "45812612-2373-4d95-9e13-589e3a780f63",
   "metadata": {},
   "outputs": [],
   "source": [
    "def zero_indices(mat,eli_rows=None,eli_cols=None,result=None):\n",
    "    if eli_rows is None:\n",
    "        eli_rows = set()\n",
    "    if eli_cols is None:\n",
    "        eli_cols = set()\n",
    "    if result is None:\n",
    "        result = []\n",
    "    r = mat.shape[0]\n",
    "    c = mat.shape[1]\n",
    "    f = False #Flag to check if new single zero rows/cols are found\n",
    "    for i in range(r):\n",
    "        if i in eli_rows:\n",
    "            continue\n",
    "        zero_pos = np.where(mat[i] == 0)[0] #gets column where zero is present\n",
    "        zero_pos = [z for z in zero_pos if z not in eli_cols]\n",
    "\n",
    "        if len(zero_pos) == 1:\n",
    "            col_index = zero_pos[0] #Getting index of column\n",
    "            result.append((i,col_index)) #Storing a tuple\n",
    "            eli_rows.add(i)\n",
    "            eli_cols.add(col_index)\n",
    "            f = True\n",
    "        \n",
    "    #DOing the same for columns\n",
    "    for j in range(c):\n",
    "        if j in eli_cols:\n",
    "            continue\n",
    "        zero_pos = np.where(mat[:,j] == 0)[0]\n",
    "        zero_pos = [z for z in zero_pos if z not in eli_rows]\n",
    "\n",
    "        if len(zero_pos) == 1:\n",
    "            row_index = zero_pos[0]\n",
    "            result.append((row_index,j)) #Storing a tuple\n",
    "            eli_rows.add(row_index)\n",
    "            eli_cols.add(j)\n",
    "            f = True\n",
    "    if f:\n",
    "        return result\n",
    "    "
   ]
  },
  {
   "cell_type": "code",
   "execution_count": 207,
   "id": "57754517-6142-42ac-a436-b555b98c8ca4",
   "metadata": {},
   "outputs": [],
   "source": [
    "def addition(result,original_mat):\n",
    "    total = sum(original_mat[row,col] for row,col in result)\n",
    "    return total\n",
    "    "
   ]
  },
  {
   "cell_type": "code",
   "execution_count": 208,
   "id": "112fa249-c194-4f48-80d4-dcb36280afee",
   "metadata": {},
   "outputs": [],
   "source": [
    "#Using scipy\n",
    "from scipy.optimize import linear_sum_assignment\n",
    "def using_lib(original_mat):\n",
    "    row_ind, col_ind = linear_sum_assignment(original_mat)\n",
    "    return original_mat[row_ind, col_ind].sum()"
   ]
  },
  {
   "cell_type": "code",
   "execution_count": null,
   "id": "5b7f8bcd-f1a9-4120-a522-f4f9a3e31a8d",
   "metadata": {},
   "outputs": [],
   "source": []
  },
  {
   "cell_type": "code",
   "execution_count": null,
   "id": "c96fe359-d701-42b5-a893-5d61a0fa92bc",
   "metadata": {},
   "outputs": [],
   "source": []
  },
  {
   "cell_type": "code",
   "execution_count": null,
   "id": "f130741b-1ecf-40cb-b7e3-6a6a2c9dfe2a",
   "metadata": {},
   "outputs": [],
   "source": []
  }
 ],
 "metadata": {
  "kernelspec": {
   "display_name": "Python 3 (ipykernel)",
   "language": "python",
   "name": "python3"
  },
  "language_info": {
   "codemirror_mode": {
    "name": "ipython",
    "version": 3
   },
   "file_extension": ".py",
   "mimetype": "text/x-python",
   "name": "python",
   "nbconvert_exporter": "python",
   "pygments_lexer": "ipython3",
   "version": "3.12.7"
  }
 },
 "nbformat": 4,
 "nbformat_minor": 5
}
